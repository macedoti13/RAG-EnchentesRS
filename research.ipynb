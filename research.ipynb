{
 "cells": [
  {
   "cell_type": "code",
   "execution_count": 1,
   "metadata": {},
   "outputs": [
    {
     "name": "stderr",
     "output_type": "stream",
     "text": [
      "USER_AGENT environment variable not set, consider setting it to identify your requests.\n"
     ]
    }
   ],
   "source": [
    "from rag import RAG"
   ]
  },
  {
   "cell_type": "code",
   "execution_count": 2,
   "metadata": {},
   "outputs": [],
   "source": [
    "list_urls = [\n",
    "    \"https://g1.globo.com/rs/rio-grande-do-sul/noticia/2024/05/15/levantamento-enchente-porto-alegre-bairros-e-moradores.ghtml\",\n",
    "    \"https://www.cnnbrasil.com.br/nacional/enchente-em-porto-alegre-veja-imagens-da-cidade-apos-queda-no-nivel-da-agua/\",\n",
    "    \"https://www.bbc.com/portuguese/articles/cw00d51k5rlo\",\n",
    "    \"https://gauchazh.clicrbs.com.br/ultimas-noticias/tag/alagamentos/\",\n",
    "    \"https://www.poder360.com.br/infraestrutura/especialistas-listam-medidas-para-evitar-enchentes-em-porto-alegre/\",\n",
    "    \"https://www.camarapoa.rs.gov.br/noticias/cece-discute-sobre-obras-nas-escolas-atingidas-pelas-enchentes\",\n",
    "    \"https://www.metropoles.com/brasil/sobe-para-179-o-numero-de-mortos-em-razao-das-enchentes-no-rs\",\n",
    "    \"https://gauchazh.clicrbs.com.br/economia/conteudo-de-marca/2024/06/pequenos-negocios-podem-receber-ate-15-mil-reais-para-custos-com-alagamentos-clxdskw6i01420144abiw0pvv.html\",\n",
    "    \"https://agenciabrasil.ebc.com.br/geral/noticia/2024-05/inundacao-em-porto-alegre-foi-falta-de-manutencao-dizem-especialistas\",\n",
    "    \"https://www.observatoriodasmetropoles.net.br/nucleo-porto-alegre-analisa-os-impactos-das-enchentes-na-populacao-pobre-e-negra-do-rio-grande-do-sul/\",\n",
    "    \"https://gauchazh.clicrbs.com.br/porto-alegre/noticia/2024/05/numero-de-abrigos-para-atingidos-pela-enchente-cai-em-porto-alegre-clwdpjnrp00vg0148idb5123y.html\",\n",
    "    \"https://gauchazh.clicrbs.com.br/porto-alegre/noticia/2024/05/diversos-bairros-de-porto-alegre-registram-inundacao-dmae-fala-em-chuva-alem-do-que-os-modelos-previam-clwjbt6rh00b1014xqkk45ji9.html#:~:text=Entre%20os%20registros%20de%20aumento,São%20Geraldo%2C%20Restinga%20e%20Floresta.\"\n",
    "]"
   ]
  },
  {
   "cell_type": "code",
   "execution_count": 3,
   "metadata": {},
   "outputs": [],
   "source": [
    "rag = RAG(completion_model=\"gpt-3.5-turbo\", embedding_model=\"text-embedding-3-small\")\n",
    "rag.add_documents(list_urls)"
   ]
  },
  {
   "cell_type": "code",
   "execution_count": 4,
   "metadata": {},
   "outputs": [
    {
     "data": {
      "text/plain": [
       "'As enchentes em Porto Alegre foram causadas principalmente pelo extravasamento de bueiros e arroios, como o Feijó e o Cavalhada, devido à falta de manutenção adequada no sistema de proteção contra inundações da cidade, que não recebeu as manutenções permanentes necessárias por parte da prefeitura, conforme avaliação de especialistas.'"
      ]
     },
     "execution_count": 4,
     "metadata": {},
     "output_type": "execute_result"
    }
   ],
   "source": [
    "response = rag.query(\"Qual a causa das enchentes em Porto Alegre?\")\n",
    "response"
   ]
  }
 ],
 "metadata": {
  "kernelspec": {
   "display_name": "oms_project",
   "language": "python",
   "name": "python3"
  },
  "language_info": {
   "codemirror_mode": {
    "name": "ipython",
    "version": 3
   },
   "file_extension": ".py",
   "mimetype": "text/x-python",
   "name": "python",
   "nbconvert_exporter": "python",
   "pygments_lexer": "ipython3",
   "version": "3.12.4"
  }
 },
 "nbformat": 4,
 "nbformat_minor": 2
}
