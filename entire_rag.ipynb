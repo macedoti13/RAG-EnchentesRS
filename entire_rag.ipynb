{
 "cells": [
  {
   "cell_type": "code",
   "execution_count": 1,
   "metadata": {},
   "outputs": [
    {
     "name": "stderr",
     "output_type": "stream",
     "text": [
      "USER_AGENT environment variable not set, consider setting it to identify your requests.\n"
     ]
    }
   ],
   "source": [
    "from langchain.document_loaders import WebBaseLoader\n",
    "from langchain_text_splitters import RecursiveCharacterTextSplitter\n",
    "from langchain.retrievers.multi_query import MultiQueryRetriever\n",
    "from langchain_chroma import Chroma\n",
    "from langchain_openai import OpenAIEmbeddings\n",
    "from langchain_openai import ChatOpenAI\n",
    "from langchain.schema.output_parser import StrOutputParser\n",
    "from langchain.schema.runnable import RunnablePassthrough\n",
    "import tiktoken\n",
    "import bs4\n",
    "from langchain.prompts.chat import ChatPromptTemplate"
   ]
  },
  {
   "cell_type": "code",
   "execution_count": 2,
   "metadata": {},
   "outputs": [],
   "source": [
    "OPENAI_MODEL = \"gpt-3.5-turbo\"\n",
    "OPENAI_EMBEDDING_MODEL = \"text-embedding-3-small\""
   ]
  },
  {
   "cell_type": "code",
   "execution_count": 3,
   "metadata": {},
   "outputs": [],
   "source": [
    "loader = WebBaseLoader(\n",
    "    web_paths=[\n",
    "        \"https://g1.globo.com/rs/rio-grande-do-sul/noticia/2024/05/15/levantamento-enchente-porto-alegre-bairros-e-moradores.ghtml\",\n",
    "        \"https://www.cnnbrasil.com.br/nacional/enchente-em-porto-alegre-veja-imagens-da-cidade-apos-queda-no-nivel-da-agua/\",\n",
    "        \"https://www.bbc.com/portuguese/articles/cw00d51k5rlo\",\n",
    "        \"https://gauchazh.clicrbs.com.br/ultimas-noticias/tag/alagamentos/\",\n",
    "        \"https://www.poder360.com.br/infraestrutura/especialistas-listam-medidas-para-evitar-enchentes-em-porto-alegre/\"\n",
    "    ]\n",
    ")\n",
    "documents = loader.load()"
   ]
  },
  {
   "cell_type": "code",
   "execution_count": 4,
   "metadata": {},
   "outputs": [
    {
     "data": {
      "text/plain": [
       "langchain_core.documents.base.Document"
      ]
     },
     "execution_count": 4,
     "metadata": {},
     "output_type": "execute_result"
    }
   ],
   "source": [
    "type(documents[0])"
   ]
  },
  {
   "cell_type": "code",
   "execution_count": 5,
   "metadata": {},
   "outputs": [],
   "source": [
    "encoding = tiktoken.encoding_for_model(OPENAI_MODEL)\n",
    "tiktoken_len = lambda text: len(encoding.encode(text))"
   ]
  },
  {
   "cell_type": "code",
   "execution_count": 6,
   "metadata": {},
   "outputs": [],
   "source": [
    "text_splitter = RecursiveCharacterTextSplitter(\n",
    "    chunk_size=500,\n",
    "    chunk_overlap=50,\n",
    "    length_function=tiktoken_len,\n",
    "    add_start_index=True\n",
    ")"
   ]
  },
  {
   "cell_type": "code",
   "execution_count": 7,
   "metadata": {},
   "outputs": [],
   "source": [
    "chunks = text_splitter.split_documents(documents)"
   ]
  },
  {
   "cell_type": "code",
   "execution_count": 8,
   "metadata": {},
   "outputs": [],
   "source": [
    "vector_db_floods_rs = Chroma.from_documents(documents=chunks, embedding=OpenAIEmbeddings(model=OPENAI_EMBEDDING_MODEL), persist_directory=\"./vector_db_floods_rs\")"
   ]
  },
  {
   "cell_type": "code",
   "execution_count": 9,
   "metadata": {},
   "outputs": [],
   "source": [
    "llm_retriever = ChatOpenAI(temperature=0, model=OPENAI_MODEL)\n",
    "retriever_from_llm = MultiQueryRetriever.from_llm(\n",
    "    retriever=vector_db_floods_rs.as_retriever(top_k=10), llm=llm_retriever\n",
    ")"
   ]
  },
  {
   "cell_type": "code",
   "execution_count": 10,
   "metadata": {},
   "outputs": [
    {
     "data": {
      "text/plain": [
       "langchain.retrievers.multi_query.MultiQueryRetriever"
      ]
     },
     "execution_count": 10,
     "metadata": {},
     "output_type": "execute_result"
    }
   ],
   "source": [
    "type(retriever_from_llm)"
   ]
  },
  {
   "cell_type": "code",
   "execution_count": 11,
   "metadata": {},
   "outputs": [],
   "source": [
    "RAG_PROMPT = \"\"\"\n",
    "CONTEXTO:\n",
    "{context}\n",
    "\n",
    "PERGUNTA DO USUÁRIO:\n",
    "{question}\n",
    "\n",
    "O contexto descrito acima foi recuperado através de uma RAG. Caso o contexto esteja vazio ou seja inútil, responda com \"Eu não sei\". Caso contrário, utilize o contexto \n",
    "obtido para responder a pergunta do usuário. \n",
    "\"\"\"\n",
    "\n",
    "rag_prompt = ChatPromptTemplate.from_template(RAG_PROMPT)"
   ]
  },
  {
   "cell_type": "code",
   "execution_count": 12,
   "metadata": {},
   "outputs": [],
   "source": [
    "llm_answer = ChatOpenAI(model=\"gpt-4o\")"
   ]
  },
  {
   "cell_type": "code",
   "execution_count": 13,
   "metadata": {},
   "outputs": [],
   "source": [
    "rag_chain = (\n",
    "    {\"context\": retriever_from_llm, \"question\": RunnablePassthrough()}\n",
    "    | rag_prompt\n",
    "    | llm_answer\n",
    "    | StrOutputParser()\n",
    ")"
   ]
  },
  {
   "cell_type": "code",
   "execution_count": 14,
   "metadata": {},
   "outputs": [
    {
     "data": {
      "text/plain": [
       "'Para evitar enchentes em Porto Alegre, os especialistas sugerem uma série de medidas emergenciais e de longo prazo:\\n\\n### Medidas Emergenciais:\\n1. **Vedação das Comportas**:\\n   - Utilizar mergulhadores e sacos permeáveis para vedar as comportas do muro e da Avenida Castelo Branco.\\n\\n2. **Instalação de Ensecadeiras**:\\n   - Instalar ensecadeiras em todas as 23 casas de bombas para que possam voltar a funcionar.\\n   - Reenergizar os locais usando redes paralelas de cabos isolados ou geradores.\\n   - Caso as casas de bombas não possam ser operadas, utilizar bombas volantes de grande vazão para drenar o centro histórico e a região norte.\\n\\n3. **Vedação das Tampas dos Condutos Forçados**:\\n   - Vedação das tampas violadas dos Condutos Forçados Polônia e Álvaro Chaves.\\n\\n### Medidas para Quando o Nível da Água Estiver Baixo:\\n1. **Manutenção de Comportas**:\\n   - Consertar e substituir comportas danificadas.\\n\\n2. **Regularização das Casas de Bombas**:\\n   - Contratar a regularização das casas de bombas, baseado no plano elaborado pelo DEP (Departamento de Esgotos Pluviais) em 2014. As casas mencionadas são as casas 12, 13, 14, 15, 16, 1, 2, 3, 4, 5, 6 e 10.\\n\\n3. **Plano de Desenvolvimento da Drenagem Urbana**:\\n   - Retomar o Plano de Desenvolvimento da Drenagem Urbana e o projeto para ampliação do sistema de proteção contra cheias e projetos de ampliação e modernização das casas de bombas.\\n\\n4. **Investimento e Manutenção**:\\n   - Investir na manutenção e aperfeiçoamento do sistema de drenagem.\\n   - Criar uma estrutura de primeiro escalão para a tarefa.\\n\\n5. **Estudo de Alternativas**:\\n   - Estudar com o poder estadual as alternativas para os níveis de proteção contra inundações.\\n\\n### Contexto Adicional:\\n- O sistema de proteção contra inundações de Porto Alegre é composto por aproximadamente 60 km de diques e um complexo de casas de bombas e comportas.\\n- A falta de manutenção, especialmente nas comportas, tem sido um dos principais problemas que comprometeram a eficiência do sistema.\\n- As cheias recentes evidenciaram a necessidade urgente de manutenção e modernização do sistema de drenagem e proteção contra inundações da cidade.\\n\\nImplementar essas medidas pode ajudar a evitar futuras enchentes e melhorar a resiliência de Porto Alegre a eventos de chuvas fortes.'"
      ]
     },
     "execution_count": 14,
     "metadata": {},
     "output_type": "execute_result"
    }
   ],
   "source": [
    "rag_chain.invoke(\"Como evitar enchentes em Porto Alegre?\")"
   ]
  },
  {
   "cell_type": "code",
   "execution_count": 15,
   "metadata": {},
   "outputs": [
    {
     "data": {
      "text/plain": [
       "'Eu não sei.'"
      ]
     },
     "execution_count": 15,
     "metadata": {},
     "output_type": "execute_result"
    }
   ],
   "source": [
    "rag_chain.invoke(\"Qual o verdadeiro nome do Homem-Aranha?\")"
   ]
  }
 ],
 "metadata": {
  "kernelspec": {
   "display_name": "gptenv",
   "language": "python",
   "name": "python3"
  },
  "language_info": {
   "codemirror_mode": {
    "name": "ipython",
    "version": 3
   },
   "file_extension": ".py",
   "mimetype": "text/x-python",
   "name": "python",
   "nbconvert_exporter": "python",
   "pygments_lexer": "ipython3",
   "version": "3.12.4"
  }
 },
 "nbformat": 4,
 "nbformat_minor": 2
}
