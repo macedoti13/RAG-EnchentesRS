{
 "cells": [
  {
   "cell_type": "code",
   "execution_count": 1,
   "metadata": {},
   "outputs": [],
   "source": [
    "from loader import Loader\n",
    "from indexer import Indexer\n",
    "from retriever import Retriever\n",
    "from langchain.prompts.chat import ChatPromptTemplate\n",
    "from langchain_openai import ChatOpenAI\n",
    "from langchain.chains.base import Chain\n",
    "\n",
    "from langchain.schema.runnable import RunnablePassthrough\n",
    "from langchain.schema.output_parser import StrOutputParser\n",
    "\n",
    "from langchain.chains import create_retrieval_chain\n",
    "from langchain.chains.combine_documents import create_stuff_documents_chain"
   ]
  },
  {
   "cell_type": "code",
   "execution_count": 2,
   "metadata": {},
   "outputs": [],
   "source": [
    "urls=[\n",
    "    \"https://g1.globo.com/rs/rio-grande-do-sul/noticia/2024/05/15/levantamento-enchente-porto-alegre-bairros-e-moradores.ghtml\",\n",
    "    \"https://www.cnnbrasil.com.br/nacional/enchente-em-porto-alegre-veja-imagens-da-cidade-apos-queda-no-nivel-da-agua/\",\n",
    "    \"https://www.bbc.com/portuguese/articles/cw00d51k5rlo\",\n",
    "    \"https://gauchazh.clicrbs.com.br/ultimas-noticias/tag/alagamentos/\",\n",
    "    \"https://www.poder360.com.br/infraestrutura/especialistas-listam-medidas-para-evitar-enchentes-em-porto-alegre/\"\n",
    "]\n",
    "\n",
    "documents = Loader.load_documents(urls, chunk=True, chunk_model_name=\"gpt-3.5-turbo\", chunk_size=500, chunk_overlap=50, save_path=\"documents.pkl\")\n",
    "#documents = Loader.load_from_file(\"documents.pkl\")"
   ]
  },
  {
   "cell_type": "code",
   "execution_count": 3,
   "metadata": {},
   "outputs": [],
   "source": [
    "db = Indexer.create_new_db(documents, persist_directory=\"./db\")\n",
    "#db = DocumentIndexer.load_db(\"./db\")"
   ]
  },
  {
   "cell_type": "code",
   "execution_count": 4,
   "metadata": {},
   "outputs": [],
   "source": [
    "retriever = Retriever.create_retriever_from_db(db)"
   ]
  },
  {
   "cell_type": "code",
   "execution_count": 5,
   "metadata": {},
   "outputs": [],
   "source": [
    "system_prompt: str = \"\"\"\n",
    "Você é um assistente de perguntas e respostas inserido em uma RAG (Retrieval-Augmented Generation). \\\n",
    "Você receberá um contexto extraído de documentos e uma pergunta feita pelo usuário. Sua tarefa é \\\n",
    "responder à pergunta usando exclusivamente o contexto fornecido. Se o contexto não for fornecido ou \\\n",
    "não for suficiente para responder à pergunta, responda com \"Eu não sei\". Utilize apenas as informações \\\n",
    "contidas no contexto fornecido.\n",
    "\n",
    "Contexto fornecido: {context}\n",
    "\"\"\"\n",
    "\n",
    "\n",
    "prompt = ChatPromptTemplate.from_messages([(\"system\", system_prompt),(\"human\", \"{input}\")])\n",
    "llm = ChatOpenAI(model=\"gpt-4o\")"
   ]
  },
  {
   "cell_type": "code",
   "execution_count": 6,
   "metadata": {},
   "outputs": [],
   "source": [
    "question_answer_chain = create_stuff_documents_chain(llm, prompt)\n",
    "rag_chain = create_retrieval_chain(retriever, question_answer_chain)"
   ]
  },
  {
   "cell_type": "code",
   "execution_count": 7,
   "metadata": {},
   "outputs": [],
   "source": [
    "response = rag_chain.invoke({\"input\": \"Qual a causa das enchentes em Porto Alegre?\"})"
   ]
  },
  {
   "cell_type": "code",
   "execution_count": 8,
   "metadata": {},
   "outputs": [
    {
     "data": {
      "text/plain": [
       "'As enchentes em Porto Alegre foram causadas principalmente pelo extravasamento de bueiros e arroios, como o Arroio Feijó e o Arroio Cavalhada, devido ao excesso de chuva. Além disso, a falta de manutenção adequada do Sistema de Proteção contra Inundações e de Drenagem Pluvial, incluindo comportas e casas de bombas, também contribuiu para o problema. A sobrecarga da rede de drenagem e o acúmulo de lixo nos bueiros agravaram a situação.'"
      ]
     },
     "execution_count": 8,
     "metadata": {},
     "output_type": "execute_result"
    }
   ],
   "source": [
    "response[\"answer\"]"
   ]
  },
  {
   "cell_type": "code",
   "execution_count": 9,
   "metadata": {},
   "outputs": [
    {
     "name": "stdout",
     "output_type": "stream",
     "text": [
      "longo prazo, não tem o que fazer. Teremos de conviver com o sentimento de medo de estar ali, na cama, e ocorrer uma nova enchente”,  afirma.Além de interromper o sonho de normalização de muitos gaúchos, a enxurrada de sexta-feira (23/5) travou operações de reocupação de espaços públicos e destruiu obras emergenciais que serviam de paliativo diante da aniquilação da infraestrutura do Estado.Em Porto Alegre, a prefeitura havia programado o início da limpeza do Mercado Público. Com as chuvas, foi preciso adiar o trabalho.No bairro Sarandi, zona norte de Porto Alegre, a chuva e a correnteza do Arroio das Pedras derrubaram um trecho da Avenida Sarandi e do talude de contenção na esquina com a Avenida General Raphael Zippin. Embora o Sarandi seja o bairro onde a enchente atingiu o maior número de pessoas, com 26.042 pessoas afetadas segundo a prefeitura, esse ponto da avenida não havia sofrido danos até ontem.No Vale do Taquari, uma ponte provisória flutuante instalada pelo Exército sobre o Rio  Forqueta, entre os municípios de Lajeado e Arroio do Meio, foi levada pela torrente. A passagem, em uso desde a quarta-feira (15/5), substituía a antiga ponte destruída pela enchente e permitia a passagem de 45 pessoas por minuto, em sentido único.Denúncia ao ministério públicoOs documentos do Dmae foram anexados pelo deputado estadual Matheus Gomes (PSOL) em um ofício enviado na quarta ao procurador-geral de Justiça do Estado, Alexandre Saltz, no qual solicita abertura de procedimento para averiguar “possível negligência e omissão” da prefeitura em relação ao sistema de proteção contra enchentes da capital. O documento traz uma série de despachos e laudos de servidores do Dmae no qual os\n",
      "1 – SISTEMAS DE PROTEÇÃO CONTRA INUNDAÇÕES E DE DRENAGEM PLUVIAL DE PORTO ALEGRE\n",
      "O Sistema de Proteção contra Inundações é composto por aproximadamente 60 km, desde a Av. Assis Brasil com a Free Way (norte) até o Morro da Assunção (sul). Nesta sequência temos os diques externos: Free Way, Av. Castelo Branco, Av. Beira-Rio e Av. Diário de Notícias. Entre a Rodoviária e o Usina do Gasômetro foi implantado o Muro da Mauá. Ainda compõem o Sistema os diques internos que são formados pelas margens na cota de 6,0m dos principais Arroios que deságuam no Guaíba, especialmente a Av. Ipiranga (Arroio Dilúvio). As aberturas na Av. Castelo Branco e Muro da Mauá são feitas através de 14 comportas. Ao longo do Sistema existem 23 Casas de Bombas, que também possuem comportas. Este Sistema, quando totalmente fechado impede o extravasamento das águas sobre a Cidade. Impede a inundação até a cota de 6,0m (6,0m acima do mar). E como são retiradas as águas geradas dentro de Porto Alegre (solução para os alagamentos-drenagem)? Através do bombeamento das Casas de Bombas, diques internos e Condutos Forçados (Dutos que levam as águas para o Guaíba em dutos completamente fechados desde pontos mais altos). Ou seja, os dois sistemas – de Proteção contra Inundações e de Drenagem – necessitam funcionar integradamente.\n",
      "Por que estes Sistemas vazam, não estão funcionando adequadamente? Porque não tem a necessária manutenção permanente, especialmente em relação às comportas, tanto as ao longo do Muro e abaixo da Av. Castelo Branco, bem como as comportas junto às Casas de Bombas.\n",
      "Algumas pessoas podem perguntar 'mas vocês poderiam ter feito isso ontem', é um questionamento legítimo, mas em momento de chuva tudo é muito difícil\", afirmou Melo. \"Sabíamos que ia chover, mas as chuvas foram especialmente fortes.\"A prefeitura disse ainda que o fato da rede já estar muito sobrecarregada afetou a capacidade de contenção do problema, mas que não há um \"colapso\" do sistema de proteção à chuvas. Entre as decisões tomadas, segundo o prefeito, está o fechamento das comportas anti-alagamento do rio. Segundo a prefeitura, 5 das 14 comportas estavam abertas ainda na tarde de quinta, mas em \"iminência de fechamento\". Segundo o diretor do Departamento Municipal de Água e Esgotos (Dmae), Maurício Loss, algumas das comportas que foram mantidas abertas tinham o objetivo de ajudar no escoamento das áreas alagadas; mas assim que identificado que hávia uma inversão, ou seja, que as águas estavam indo do rio para a cidade, as comportas foram sendo fechadas. O diretor do Dmae também negou que o sistema de saneamento da capital tenha entrado em colapso e culpou pela situação a chuva “além do previsto”.Loss disse também que 10 das 23 estações de bombeamento fluvial da cidade estão funcionando. O Dmae afirmou que, nos últimos 20 dias, parte das casas de bombas foram alagadas e que a substituição dos motores não é imediata, depende da encomenda das máquinas, que já foi feita. A prefeitura tem enfrentado acusações de “possível negligência e omissão” em relação ao sistema de proteção contra enchentes da capital. Segundo documentos do Dmae que vieram à tona nesta semana, a administração foi avisada por técnicos que havia problemas na estrutura de bombeamento de água. Crédito, ReutersLegenda da foto, Águas voltaram a subir em Porto Alegre; no bairro de Cavalhada, o córrego\n",
      "Ruas alagadas na cidade de Porto Alegre em 14 de maio de 2024. ‚Äî Foto: Anselmo Cunha / AFP     Ruas alagadas na cidade de Porto Alegre em 14 de maio de 2024. ‚Äî Foto: Anselmo Cunha / AFP                As enchentes que castigaram o Rio Grande do Sul entre o fim de abril e a primeira quinzena de maio atingiram mais da metade dos bairros de Porto Alegre e afetaram 157 mil moradores da Capital. Os dados foram compilados a partir de um levantamento da Secretaria Municipal de Meio Ambiente, Urbanismo e Sustentabilidade (Smamus).        üì≤ Acesse o canal do g1 RS no WhatsApp       Os bairros mais afetados est√£o localizados pr√≥ximos √† orla do Gua√≠ba, na Zona Sul, ou no limite de cidades\n",
      "é prefeito de Porto Alegre desde 2021. Antes disso, a cidade foi administrada pelo PSDB (2017-2021), pelo PDT (2013-2017) e pelo partido de Melo, que então se chamava PMDB (2009-2010). Bueiros e lixoDiferentemente do início do mês, quando o grosso da enchente foi provocado pelo avanço das águas do Guaíba sobre as zonas norte e central, desta vez a inundação deveu-se principalmente ao extravasamento de bueiros e arroios como o Feijó, junto ao bairro Sarandi, e o Cavalhada, na zona sul.Os bairros Restinga e Santana, na zona leste, e Cavalhada, na zona sul, que não registraram alagamentos nos primeiros dias de maio, registraram pontos de alagamento e bloqueio de ruas.No bairro Camaquã, crianças e funcionários da escola infantil Paraíso dos Baixinhos foram resgatados numa operação que envolveu pais, Corpo de Bombeiros e Exército. O resgate foi dificultado por uma obra inacabada em um duto na região, que começou a jorrar água e impediu até mesmo a passagem de um caminhão do Exército.Em outros locais, áreas que já estavam secas voltaram a ficar submersas. Na Avenida José de Alencar, no bairro Menino Deus, quase duas dezenas de comerciantes foram resgatados. A região apresentava recuo da água desde o domingo (12/5). No bairro Cidade Baixa, ruas como Barão do Gravataí, Baronesa do Gravataí, Luiz Afonso e Joaquim Nabuco tiveram a mesma sorte.O excesso de chuva foi o responsável por pelo menos um ponto de alagamento: o Parque Farroupilha, popularmente chamado de Redenção, no bairro Bom Fim. No final da tarde, a área em torno do chafariz do parque estava coberta pela água acumulada desde a madrugada no local.Uma\n",
      "chamado de Redenção, no bairro Bom Fim. No final da tarde, a área em torno do chafariz do parque estava coberta pela água acumulada desde a madrugada no local.Uma postagem do advogado Sérgio Achutti Blattes em uma rede social na quarta-feira (22/5) indicava que o alagamento na área começara antes da chuva. “Hoje, 22 de maio, Rua Aureliano (Avenida Aureliano de Figueiredo Pinto), lateral do TJ/RS, voltou a inundar”, escreveu o advogado na postagem, que incluía um vídeo da via alagada entre os prédios do Tribunal de Justiça do Estado e do Instituto de Previdência do Estado.Questionado sobre a limpeza dos bueiros da cidade e a retirada do lixo durante a coletiva de quinta, o prefeito respondeu que têm um contrato de limpeza mas que “se existem bueiros entupidos” é porque “lixo foi colocado indevidamente”.“Peço reiteradamente que as pessoas não joguem lixo na rua”, disse o prefeito da coletiva.Questionado sobre a possibilidade de pedir ajuda, como do Exército, para a limpeza, o prefeito afirmou que o Exército está ajudando Porto Alegre, mas também tem que atuar em outras cidades e que o efetivo que está atuando deve ser aumentado. A prefeitura disse também que está fazendo um pregão para contratar mais empresas para fazer a limpeza. O mês de maio já detém o recorde de volume de chuva na capital. Segundo o Instituto Nacional de Meteorologia, de 1º de maio às 15h de quinta-feira (23/5), a precipitação atingiu 461 mm, maior quantidade registrada desde que a medição começou a ser feita, em 1916. O segundo maior volume, de 405 mm, foi atingido em 1941, ano da enchente que, até este ano, era considerado o evento mais extremo desse tipo no Estado.*colaborou Letícia Mori, da BBC News Brasil em\n"
     ]
    }
   ],
   "source": [
    "for i in response[\"context\"]:\n",
    "    print(i.page_content)"
   ]
  },
  {
   "cell_type": "code",
   "execution_count": 10,
   "metadata": {},
   "outputs": [
    {
     "data": {
      "text/plain": [
       "'Eu não sei.'"
      ]
     },
     "execution_count": 10,
     "metadata": {},
     "output_type": "execute_result"
    }
   ],
   "source": [
    "response = rag_chain.invoke({\"input\": \"Qual o verdadeiro nome do Darth Vader?\"})\n",
    "response[\"answer\"]"
   ]
  }
 ],
 "metadata": {
  "kernelspec": {
   "display_name": "gptenv",
   "language": "python",
   "name": "python3"
  },
  "language_info": {
   "codemirror_mode": {
    "name": "ipython",
    "version": 3
   },
   "file_extension": ".py",
   "mimetype": "text/x-python",
   "name": "python",
   "nbconvert_exporter": "python",
   "pygments_lexer": "ipython3",
   "version": "3.12.3"
  }
 },
 "nbformat": 4,
 "nbformat_minor": 2
}
