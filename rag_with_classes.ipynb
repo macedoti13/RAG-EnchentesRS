{
 "cells": [
  {
   "cell_type": "code",
   "execution_count": 1,
   "metadata": {},
   "outputs": [
    {
     "name": "stderr",
     "output_type": "stream",
     "text": [
      "USER_AGENT environment variable not set, consider setting it to identify your requests.\n"
     ]
    }
   ],
   "source": [
    "from loader import Loader\n",
    "from indexer import DocumentIndexer\n",
    "from retriever import Retriever\n",
    "from langchain.prompts.chat import ChatPromptTemplate\n",
    "from langchain_openai import ChatOpenAI\n",
    "from langchain.chains.base import Chain\n",
    "\n",
    "from langchain.schema.runnable import RunnablePassthrough\n",
    "from langchain.schema.output_parser import StrOutputParser\n",
    "\n",
    "from langchain.chains import create_retrieval_chain\n",
    "from langchain.chains.combine_documents import create_stuff_documents_chain"
   ]
  },
  {
   "cell_type": "code",
   "execution_count": 2,
   "metadata": {},
   "outputs": [],
   "source": [
    "urls=[\n",
    "    \"https://g1.globo.com/rs/rio-grande-do-sul/noticia/2024/05/15/levantamento-enchente-porto-alegre-bairros-e-moradores.ghtml\",\n",
    "    \"https://www.cnnbrasil.com.br/nacional/enchente-em-porto-alegre-veja-imagens-da-cidade-apos-queda-no-nivel-da-agua/\",\n",
    "    \"https://www.bbc.com/portuguese/articles/cw00d51k5rlo\",\n",
    "    \"https://gauchazh.clicrbs.com.br/ultimas-noticias/tag/alagamentos/\",\n",
    "    \"https://www.poder360.com.br/infraestrutura/especialistas-listam-medidas-para-evitar-enchentes-em-porto-alegre/\"\n",
    "]\n",
    "\n",
    "#documents = Loader.load_documents(urls, chunk=True, chunk_model_name=\"gpt-3.5-turbo\", chunk_size=500, chunk_overlap=50, save_path=\"documents.pkl\")\n",
    "documents = Loader.load_from_file(\"documents.pkl\")"
   ]
  },
  {
   "cell_type": "code",
   "execution_count": 3,
   "metadata": {},
   "outputs": [],
   "source": [
    "#db = DocumentIndexer.create_new_db(documents, persist_directory=\"./db\")\n",
    "db = DocumentIndexer.load_db(\"./db\")"
   ]
  },
  {
   "cell_type": "code",
   "execution_count": 4,
   "metadata": {},
   "outputs": [],
   "source": [
    "retriever = Retriever.create_retriever_from_db(db)"
   ]
  },
  {
   "cell_type": "code",
   "execution_count": 5,
   "metadata": {},
   "outputs": [],
   "source": [
    "system_prompt: str = \"\"\"\n",
    "Você é um assistente de perguntas e respostas inserido em uma RAG (Retrieval-Augmented Generation). \\\n",
    "Você receberá um contexto extraído de documentos e uma pergunta feita pelo usuário. Sua tarefa é \\\n",
    "responder à pergunta usando exclusivamente o contexto fornecido. Se o contexto não for fornecido ou \\\n",
    "não for suficiente para responder à pergunta, responda com \"Eu não sei\". Utilize apenas as informações \\\n",
    "contidas no contexto fornecido.\n",
    "\n",
    "Contexto fornecido: {context}\n",
    "\"\"\"\n",
    "\n",
    "\n",
    "prompt = ChatPromptTemplate.from_messages([(\"system\", system_prompt),(\"human\", \"{input}\")])\n",
    "llm = ChatOpenAI(model=\"gpt-4o\")"
   ]
  },
  {
   "cell_type": "code",
   "execution_count": 6,
   "metadata": {},
   "outputs": [],
   "source": [
    "question_answer_chain = create_stuff_documents_chain(llm, prompt)\n",
    "rag_chain = create_retrieval_chain(retriever, question_answer_chain)"
   ]
  },
  {
   "cell_type": "code",
   "execution_count": 7,
   "metadata": {},
   "outputs": [],
   "source": [
    "response = rag_chain.invoke({\"input\": \"Qual a causa das enchentes em Porto Alegre?\"})"
   ]
  },
  {
   "cell_type": "code",
   "execution_count": 10,
   "metadata": {},
   "outputs": [
    {
     "data": {
      "text/plain": [
       "'A causa das enchentes em Porto Alegre é a falta de manutenção permanente nos sistemas de proteção contra inundações e de drenagem pluvial, especialmente nas comportas ao longo do Muro da Mauá, abaixo da Avenida Castelo Branco, e nas comportas junto às Casas de Bombas.'"
      ]
     },
     "execution_count": 10,
     "metadata": {},
     "output_type": "execute_result"
    }
   ],
   "source": [
    "response[\"answer\"]"
   ]
  },
  {
   "cell_type": "code",
   "execution_count": 8,
   "metadata": {},
   "outputs": [
    {
     "name": "stdout",
     "output_type": "stream",
     "text": [
      "longo prazo, não tem o que fazer. Teremos de conviver com o sentimento de medo de estar ali, na cama, e ocorrer uma nova enchente”,  afirma.Além de interromper o sonho de normalização de muitos gaúchos, a enxurrada de sexta-feira (23/5) travou operações de reocupação de espaços públicos e destruiu obras emergenciais que serviam de paliativo diante da aniquilação da infraestrutura do Estado.Em Porto Alegre, a prefeitura havia programado o início da limpeza do Mercado Público. Com as chuvas, foi preciso adiar o trabalho.No bairro Sarandi, zona norte de Porto Alegre, a chuva e a correnteza do Arroio das Pedras derrubaram um trecho da Avenida Sarandi e do talude de contenção na esquina com a Avenida General Raphael Zippin. Embora o Sarandi seja o bairro onde a enchente atingiu o maior número de pessoas, com 26.042 pessoas afetadas segundo a prefeitura, esse ponto da avenida não havia sofrido danos até ontem.No Vale do Taquari, uma ponte provisória flutuante instalada pelo Exército sobre o Rio  Forqueta, entre os municípios de Lajeado e Arroio do Meio, foi levada pela torrente. A passagem, em uso desde a quarta-feira (15/5), substituía a antiga ponte destruída pela enchente e permitia a passagem de 45 pessoas por minuto, em sentido único.Denúncia ao ministério públicoOs documentos do Dmae foram anexados pelo deputado estadual Matheus Gomes (PSOL) em um ofício enviado na quarta ao procurador-geral de Justiça do Estado, Alexandre Saltz, no qual solicita abertura de procedimento para averiguar “possível negligência e omissão” da prefeitura em relação ao sistema de proteção contra enchentes da capital. O documento traz uma série de despachos e laudos de servidores do Dmae no qual os\n",
      "1 – SISTEMAS DE PROTEÇÃO CONTRA INUNDAÇÕES E DE DRENAGEM PLUVIAL DE PORTO ALEGRE\n",
      "O Sistema de Proteção contra Inundações é composto por aproximadamente 60 km, desde a Av. Assis Brasil com a Free Way (norte) até o Morro da Assunção (sul). Nesta sequência temos os diques externos: Free Way, Av. Castelo Branco, Av. Beira-Rio e Av. Diário de Notícias. Entre a Rodoviária e o Usina do Gasômetro foi implantado o Muro da Mauá. Ainda compõem o Sistema os diques internos que são formados pelas margens na cota de 6,0m dos principais Arroios que deságuam no Guaíba, especialmente a Av. Ipiranga (Arroio Dilúvio). As aberturas na Av. Castelo Branco e Muro da Mauá são feitas através de 14 comportas. Ao longo do Sistema existem 23 Casas de Bombas, que também possuem comportas. Este Sistema, quando totalmente fechado impede o extravasamento das águas sobre a Cidade. Impede a inundação até a cota de 6,0m (6,0m acima do mar). E como são retiradas as águas geradas dentro de Porto Alegre (solução para os alagamentos-drenagem)? Através do bombeamento das Casas de Bombas, diques internos e Condutos Forçados (Dutos que levam as águas para o Guaíba em dutos completamente fechados desde pontos mais altos). Ou seja, os dois sistemas – de Proteção contra Inundações e de Drenagem – necessitam funcionar integradamente.\n",
      "Por que estes Sistemas vazam, não estão funcionando adequadamente? Porque não tem a necessária manutenção permanente, especialmente em relação às comportas, tanto as ao longo do Muro e abaixo da Av. Castelo Branco, bem como as comportas junto às Casas de Bombas.\n"
     ]
    }
   ],
   "source": [
    "for i in response[\"context\"]:\n",
    "    print(i.page_content)"
   ]
  },
  {
   "cell_type": "code",
   "execution_count": 11,
   "metadata": {},
   "outputs": [
    {
     "data": {
      "text/plain": [
       "'Eu não sei.'"
      ]
     },
     "execution_count": 11,
     "metadata": {},
     "output_type": "execute_result"
    }
   ],
   "source": [
    "response = rag_chain.invoke({\"input\": \"Qual o verdadeiro nome do Darth Vader?\"})\n",
    "response[\"answer\"]"
   ]
  }
 ],
 "metadata": {
  "kernelspec": {
   "display_name": "gptenv",
   "language": "python",
   "name": "python3"
  },
  "language_info": {
   "codemirror_mode": {
    "name": "ipython",
    "version": 3
   },
   "file_extension": ".py",
   "mimetype": "text/x-python",
   "name": "python",
   "nbconvert_exporter": "python",
   "pygments_lexer": "ipython3",
   "version": "3.12.4"
  }
 },
 "nbformat": 4,
 "nbformat_minor": 2
}
