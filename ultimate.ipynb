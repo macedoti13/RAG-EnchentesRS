{
 "cells": [
  {
   "cell_type": "code",
   "execution_count": 1,
   "metadata": {},
   "outputs": [],
   "source": [
    "from rag import RAG"
   ]
  },
  {
   "cell_type": "code",
   "execution_count": 2,
   "metadata": {},
   "outputs": [],
   "source": [
    "list_urls = [\n",
    "    \"https://g1.globo.com/rs/rio-grande-do-sul/noticia/2024/05/15/levantamento-enchente-porto-alegre-bairros-e-moradores.ghtml\",\n",
    "    \"https://www.cnnbrasil.com.br/nacional/enchente-em-porto-alegre-veja-imagens-da-cidade-apos-queda-no-nivel-da-agua/\",\n",
    "    \"https://www.bbc.com/portuguese/articles/cw00d51k5rlo\",\n",
    "    \"https://gauchazh.clicrbs.com.br/ultimas-noticias/tag/alagamentos/\",\n",
    "    \"https://www.poder360.com.br/infraestrutura/especialistas-listam-medidas-para-evitar-enchentes-em-porto-alegre/\"\n",
    "]"
   ]
  },
  {
   "cell_type": "code",
   "execution_count": 3,
   "metadata": {},
   "outputs": [],
   "source": [
    "rag = RAG(completion_model=\"gpt-3.5-turbo\", embedding_model=\"text-embedding-3-small\")\n",
    "rag.add_documents(list_urls)"
   ]
  },
  {
   "cell_type": "code",
   "execution_count": 4,
   "metadata": {},
   "outputs": [
    {
     "data": {
      "text/plain": [
       "'As enchentes em Porto Alegre foram causadas principalmente pelo extravasamento de bueiros e arroios, como o Feijó, no bairro Sarandi, e o Cavalhada, na zona sul da cidade. Além disso, o excesso de chuva foi um dos principais responsáveis por pelo menos um ponto de alagamento, como no Parque Farroupilha, conhecido como Redenção, no bairro Bom Fim.'"
      ]
     },
     "execution_count": 4,
     "metadata": {},
     "output_type": "execute_result"
    }
   ],
   "source": [
    "response = rag.query(\"Qual a causa das enchentes em Porto Alegre?\")\n",
    "response"
   ]
  }
 ],
 "metadata": {
  "kernelspec": {
   "display_name": "oms_project",
   "language": "python",
   "name": "python3"
  },
  "language_info": {
   "codemirror_mode": {
    "name": "ipython",
    "version": 3
   },
   "file_extension": ".py",
   "mimetype": "text/x-python",
   "name": "python",
   "nbconvert_exporter": "python",
   "pygments_lexer": "ipython3",
   "version": "3.12.3"
  }
 },
 "nbformat": 4,
 "nbformat_minor": 2
}
